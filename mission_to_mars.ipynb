{
 "cells": [
  {
   "cell_type": "code",
   "execution_count": 1,
   "metadata": {},
   "outputs": [],
   "source": [
    "# imports for web browsing and parsing\n",
    "from bs4 import BeautifulSoup\n",
    "from splinter import Browser\n",
    "import pandas as pd"
   ]
  },
  {
   "cell_type": "code",
   "execution_count": 2,
   "metadata": {},
   "outputs": [],
   "source": [
    "# Set up browser with chromedriver executable\n",
    "executable_path = {\"executable_path\": \"/usr/local/bin/chromedriver\"}\n",
    "browser = Browser(\"chrome\", **executable_path, headless=False)"
   ]
  },
  {
   "cell_type": "code",
   "execution_count": 3,
   "metadata": {},
   "outputs": [],
   "source": [
    "# Visit first scraping target [NASA Mars News] and set up parser\n",
    "news_url = \"https://mars.nasa.gov/news/\"\n",
    "browser.visit(news_url)\n",
    "browser.find_by_css(\".item_list\").first.find_by_tag(\"a\").click()\n",
    "\n",
    "news_html = browser.html\n",
    "soup = BeautifulSoup(news_html, 'html.parser')"
   ]
  },
  {
   "cell_type": "code",
   "execution_count": 4,
   "metadata": {},
   "outputs": [
    {
     "name": "stdout",
     "output_type": "stream",
     "text": [
      "Things Are Stacking up for NASA's Mars 2020 Spacecraft\n",
      "For the past few months, the clean room floor in High Bay 1 at NASA's Jet Propulsion Laboratory in Pasadena, California, has been covered in parts, components and test equipment for the Mars 2020 spacecraft, scheduled for launch toward the Red Planet in July of 2020. But over the past few weeks, some of these components — the spacecraft-rocket-laden landing system and even the stand-in for the rover (christened \"surrogate-rover\") — have seemingly disappeared.\n"
     ]
    }
   ],
   "source": [
    "# Collect the latest News Title and Paragraph Text. Assign the text to variables that you can reference later\n",
    "news_title = soup.find(\"h1\", {\"class\": \"article_title\"}).get_text().strip()\n",
    "news_paragraph = soup.find(\"div\", {\"class\": \"wysiwyg_content\"}).p.get_text()\n",
    "\n",
    "# Test results\n",
    "print(news_title)\n",
    "print(news_paragraph)"
   ]
  },
  {
   "cell_type": "code",
   "execution_count": 5,
   "metadata": {},
   "outputs": [
    {
     "name": "stdout",
     "output_type": "stream",
     "text": [
      "https://www.jpl.nasa.gov/spaceimages/images/largesize/PIA16105_hires.jpg\n"
     ]
    }
   ],
   "source": [
    "# Visit second scraping target [JPL Mars Space Images - Featured Image]\n",
    "images_url = \"https://www.jpl.nasa.gov/spaceimages/?search=&category=Mars\"\n",
    "browser.visit(images_url)\n",
    "browser.find_by_id(\"full_image\").click()\n",
    "\n",
    "# Button may not load immediately causing an error, loop until it appears\n",
    "while browser.is_element_not_present_by_text(\"more info     \", wait_time=None):\n",
    "    pass\n",
    "browser.find_by_text(\"more info     \").click()\n",
    "\n",
    "# Select full size image in order to obtain url\n",
    "browser.find_by_css(\".main_image\").click()\n",
    "featured_image_url = browser.url\n",
    "\n",
    "# Test results\n",
    "print(featured_image_url)"
   ]
  },
  {
   "cell_type": "code",
   "execution_count": 6,
   "metadata": {},
   "outputs": [
    {
     "name": "stdout",
     "output_type": "stream",
     "text": [
      "InSight sol 138 (2019-04-17) low -97.7ºC (-143.9ºF) high -17.3ºC (0.9ºF)\n",
      "winds from the W at 4.3 m/s (9.5 mph) gusting to 12.6 m/s (28.1 mph)\n",
      "pressure at 7.30 hPa\n"
     ]
    }
   ],
   "source": [
    "# Visit third scraping target [Mars Weather]\n",
    "weather_url = \"https://twitter.com/marswxreport?lang=en\"\n",
    "browser.visit(weather_url)\n",
    "\n",
    "# Set up parser\n",
    "weather_html = browser.html\n",
    "soup = BeautifulSoup(weather_html, 'html.parser')\n",
    "\n",
    "# Remove child <a> in order to exclude twitter url\n",
    "soup.find(\"p\", {\"class\": \"TweetTextSize TweetTextSize--normal js-tweet-text tweet-text\"}).a.extract()\n",
    "\n",
    "# Get weather tweet\n",
    "mars_weather = soup.find(\"p\", {\"class\": \"TweetTextSize TweetTextSize--normal js-tweet-text tweet-text\"}).get_text()\n",
    "\n",
    "# Test results\n",
    "print(mars_weather)"
   ]
  },
  {
   "cell_type": "code",
   "execution_count": 7,
   "metadata": {
    "scrolled": true
   },
   "outputs": [
    {
     "name": "stdout",
     "output_type": "stream",
     "text": [
      "<table border=\"1\" class=\"dataframe\">\n",
      "  <thead>\n",
      "    <tr style=\"text-align: right;\">\n",
      "      <th>0</th>\n",
      "      <th>1</th>\n",
      "    </tr>\n",
      "  </thead>\n",
      "  <tbody>\n",
      "    <tr>\n",
      "      <td>Equatorial Diameter:</td>\n",
      "      <td>6,792 km</td>\n",
      "    </tr>\n",
      "    <tr>\n",
      "      <td>Polar Diameter:</td>\n",
      "      <td>6,752 km</td>\n",
      "    </tr>\n",
      "    <tr>\n",
      "      <td>Mass:</td>\n",
      "      <td>6.42 x 10^23 kg (10.7% Earth)</td>\n",
      "    </tr>\n",
      "    <tr>\n",
      "      <td>Moons:</td>\n",
      "      <td>2 (Phobos &amp; Deimos)</td>\n",
      "    </tr>\n",
      "    <tr>\n",
      "      <td>Orbit Distance:</td>\n",
      "      <td>227,943,824 km (1.52 AU)</td>\n",
      "    </tr>\n",
      "    <tr>\n",
      "      <td>Orbit Period:</td>\n",
      "      <td>687 days (1.9 years)</td>\n",
      "    </tr>\n",
      "    <tr>\n",
      "      <td>Surface Temperature:</td>\n",
      "      <td>-153 to 20 °C</td>\n",
      "    </tr>\n",
      "    <tr>\n",
      "      <td>First Record:</td>\n",
      "      <td>2nd millennium BC</td>\n",
      "    </tr>\n",
      "    <tr>\n",
      "      <td>Recorded By:</td>\n",
      "      <td>Egyptian astronomers</td>\n",
      "    </tr>\n",
      "  </tbody>\n",
      "</table>\n"
     ]
    }
   ],
   "source": [
    "# Visit fourth scraping target [Mars Facts]\n",
    "facts_url = \"https://space-facts.com/mars/\"\n",
    "\n",
    "# Parse table with pandas.read_html and export table to a html string\n",
    "facts_df = pd.read_html(facts_url, attrs={\"id\": \"tablepress-mars\"})[0]\n",
    "facts_html = facts_df.to_html(index=False)\n",
    "\n",
    "# Test results\n",
    "print(facts_html)"
   ]
  },
  {
   "cell_type": "code",
   "execution_count": 8,
   "metadata": {},
   "outputs": [
    {
     "name": "stdout",
     "output_type": "stream",
     "text": [
      "title : Cerberus Hemisphere Enhanced\n",
      "img_url : http://astropedia.astrogeology.usgs.gov/download/Mars/Viking/cerberus_enhanced.tif/full.jpg\n",
      "title : Schiaparelli Hemisphere Enhanced\n",
      "img_url : http://astropedia.astrogeology.usgs.gov/download/Mars/Viking/schiaparelli_enhanced.tif/full.jpg\n",
      "title : Syrtis Major Hemisphere Enhanced\n",
      "img_url : http://astropedia.astrogeology.usgs.gov/download/Mars/Viking/syrtis_major_enhanced.tif/full.jpg\n",
      "title : Valles Marineris Hemisphere Enhanced\n",
      "img_url : http://astropedia.astrogeology.usgs.gov/download/Mars/Viking/valles_marineris_enhanced.tif/full.jpg\n"
     ]
    }
   ],
   "source": [
    "# Visit fifth scraping target [Mars Hemispheres]\n",
    "hemispheres_url = \"https://astrogeology.usgs.gov/search/results?q=hemisphere+enhanced&k1=target&v1=Mars\"\n",
    "\n",
    "hemisphere_titles = [\"Cerberus Hemisphere Enhanced\", \"Schiaparelli Hemisphere Enhanced\", \"Syrtis Major Hemisphere Enhanced\", \"Valles Marineris Hemisphere Enhanced\"]\n",
    "hemisphere_image_urls = []\n",
    "\n",
    "for title in hemisphere_titles:\n",
    "    # Visit each hemisphere's page\n",
    "    browser.visit(hemispheres_url)\n",
    "    browser.find_by_text(title).click()\n",
    "    \n",
    "    # Find and extract URL for each full-size image\n",
    "    hemisphere_html = browser.html\n",
    "    soup = BeautifulSoup(hemisphere_html, 'html.parser')\n",
    "    hemisphere_image_urls.append({\"title\": title, \"img_url\": soup.find(string=\"Sample\").findParent()[\"href\"]})\n",
    "    \n",
    "# Test results\n",
    "for url in hemisphere_image_urls:\n",
    "    for key in url:\n",
    "        print(key, \":\", url[key])"
   ]
  },
  {
   "cell_type": "code",
   "execution_count": null,
   "metadata": {},
   "outputs": [],
   "source": []
  }
 ],
 "metadata": {
  "kernelspec": {
   "display_name": "Python 3",
   "language": "python",
   "name": "python3"
  },
  "language_info": {
   "codemirror_mode": {
    "name": "ipython",
    "version": 3
   },
   "file_extension": ".py",
   "mimetype": "text/x-python",
   "name": "python",
   "nbconvert_exporter": "python",
   "pygments_lexer": "ipython3",
   "version": "3.7.1"
  }
 },
 "nbformat": 4,
 "nbformat_minor": 2
}
